{
 "cells": [
  {
   "attachments": {},
   "cell_type": "markdown",
   "metadata": {},
   "source": [
    "# Les Sytèmes d'exploitation :\n",
    "\n",
    "<h3 class='fa fa-graduation-cap' style=\"color: MediumSeaGreen\"> A faire vous même n°1 :</h3>\n",
    "\n",
    "A partir de la lecture des vidéos suivantes et de vos connaissances initiales :\n",
    "\n",
    "- **donner** la signification de l'acronyme **OS** :\n",
    "\n",
    "    l'acronyne OS signifie Operating System\n",
    "       \n",
    "\n",
    "- **lister** des **OS** :\n",
    "\n",
    "    Voici quelques exemples d'operating systems on a  Apple macOS, Microsoft Windows, Google's Android OS, Linux Operating System, et Apple iOS\n",
    "    \n",
    "        \n",
    "- **résumer** en quelques lignes le rôle d'un **OS** :\n",
    "  L'OS est un logiciel qui est dans un appareil électronique. Il pilote les dispositifs matériels et reçois les instructions des utilisateurs et aussi d'autres logiciel. Il s'occupe d'un ou des processeurs ansi que de la mémoire, il fait aussi fonctionner le si dit périphérique (c'est à dire clavier, souris, ect...)\n",
    "              \n",
    "        \n",
    "- **relever** la date d'apparition des premiers **OS** :\n",
    "\n",
    "La date d'aparition du premier OS est 1951.\n",
    "\n",
    "- **expliquer** la principale différence entre Linux et UNIX :\n",
    "    \n",
    "    Linux est le clone de d'Unix en version libre, il est donc équivalent. Linux fait référence au système d'exploitation d'origine.\n",
    "        "
   ]
  },
  {
   "cell_type": "code",
   "execution_count": 3,
   "metadata": {},
   "outputs": [
    {
     "data": {
      "text/html": [
       "<center>\n",
       "<iframe width=\"560\" height=\"315\" src=\"https://www.youtube-nocookie.com/embed/AcZ87MTiXr4\" frameborder=\"0\" allow=\"accelerometer; autoplay; clipboard-write; encrypted-media; gyroscope; picture-in-picture\" allowfullscreen></iframe>\n",
       "<iframe width=\"560\" height=\"315\" src=\"https://www.youtube-nocookie.com/embed/4OhUDAtmAUo\" frameborder=\"0\" allow=\"accelerometer; autoplay; clipboard-write; encrypted-media; gyroscope; picture-in-picture\" allowfullscreen></iframe>\n",
       "<iframe width=\"560\" height=\"315\" src=\"https://www.youtube-nocookie.com/embed/IquNF_DXcF8\" frameborder=\"0\" allow=\"accelerometer; autoplay; clipboard-write; encrypted-media; gyroscope; picture-in-picture\" allowfullscreen></iframe>\n",
       "<iframe width=\"560\" height=\"315\" src=\"https://www.youtube-nocookie.com/embed/npOHVge25Us?start=23\" frameborder=\"0\" allow=\"accelerometer; autoplay; clipboard-write; encrypted-media; gyroscope; picture-in-picture\" allowfullscreen></iframe></center>\n"
      ],
      "text/plain": [
       "<IPython.core.display.HTML object>"
      ]
     },
     "metadata": {},
     "output_type": "display_data"
    }
   ],
   "source": [
    "%%HTML\n",
    "<center>\n",
    "<iframe width=\"560\" height=\"315\" src=\"https://www.youtube-nocookie.com/embed/AcZ87MTiXr4\" frameborder=\"0\" allow=\"accelerometer; autoplay; clipboard-write; encrypted-media; gyroscope; picture-in-picture\" allowfullscreen></iframe>\n",
    "<iframe width=\"560\" height=\"315\" src=\"https://www.youtube-nocookie.com/embed/4OhUDAtmAUo\" frameborder=\"0\" allow=\"accelerometer; autoplay; clipboard-write; encrypted-media; gyroscope; picture-in-picture\" allowfullscreen></iframe>\n",
    "<iframe width=\"560\" height=\"315\" src=\"https://www.youtube-nocookie.com/embed/IquNF_DXcF8\" frameborder=\"0\" allow=\"accelerometer; autoplay; clipboard-write; encrypted-media; gyroscope; picture-in-picture\" allowfullscreen></iframe>\n",
    "<iframe width=\"560\" height=\"315\" src=\"https://www.youtube-nocookie.com/embed/npOHVge25Us?start=23\" frameborder=\"0\" allow=\"accelerometer; autoplay; clipboard-write; encrypted-media; gyroscope; picture-in-picture\" allowfullscreen></iframe></center>"
   ]
  },
  {
   "attachments": {},
   "cell_type": "markdown",
   "metadata": {},
   "source": [
    "<h3 class='fa fa-graduation-cap' style=\"color: darkorange\"> A faire vous même n°2 :</h3>\n",
    "\n",
    "**Nommer** les mascottes suivantes et **retrouver** à quel système d'exploitation elles correspondent :\n",
    "\n",
    "<img src=\"https://ericecmorlaix.github.io/img/OS_a.png\" width=30% >\n",
    "\n",
    "- Nom : Son nom est Gnou\n",
    "- OS : Son OS est Gnu\n",
    "- Lien web : https://www.gnu.org/ \n",
    "\n",
    "<img src=\"https://ericecmorlaix.github.io/img/OS_b.png\" width=30% >\n",
    "\n",
    "- Nom : Son nom est Tux \n",
    "- OS : Son OS est Linux\n",
    "- Lien web : https://www.linux.org/ \n",
    "\n",
    "<img src=\"https://ericecmorlaix.github.io/img/OS_c.png\" width=30% >\n",
    "\n",
    "- Nom : Son nom est BSD Daemon \n",
    "- OS : Son Os est BSD\n",
    "- Lien web : https://www.freebsd.org/fr/ \n",
    "\n",
    "<img src=\"https://ericecmorlaix.github.io/img/OS_d.jpg\" width=30% >\n",
    "\n",
    "- Nom :Son nom est Hexley \n",
    "- OS : Son OS est DarwinOs\n",
    "- Lien web : https://www.puredarwin.org/ \n",
    "\n",
    "\n",
    "<h3 class='fa fa-graduation-cap' style=\"color: tomato\"> A faire vous même n°3 :</h3>\n",
    "\n",
    "Pour aller plus loin et en savoir plus, lire les article suivants :\n",
    "\n",
    "- https://framablog.org/2010/08/21/bsd-linux-differences/\n",
    "- https://www.linuxrouen.fr/wp/distributions-gnulinux-bsd/distributions-gnu-linux-incertitudes-sur-le-devenir-des-versions-desktop-25196/\n",
    "- https://gitlab.com/lyceeND/1ere/blob/master/2019_20/2_Systeme_1/systeme19.md\n"
   ]
  },
  {
   "cell_type": "markdown",
   "metadata": {},
   "source": [
    "****\n",
    "## Références aux programmes :\n",
    "\n",
    "### Architectures matérielles et systèmes d’exploitation\n",
    "\n",
    "|Contenus|Capacités attendues|Commentaires|\n",
    "|--------|-------------------|------------|\n",
    "|Systèmes d’exploitation.|Identifier les fonctions d’un système d’exploitation.<br/>Utiliser les commandes de base en ligne de commande.<br/>Gérer les droits et permissions d’accès aux fichiers.|Les différences entre systèmes d’exploitation libres et propriétaires sont évoquées.<br/>Les élèves utilisent un système d’exploitation libre.<br/>Il ne s’agit pas d’une étude théorique des systèmes d’exploitation.|\n",
    "\n",
    "****"
   ]
  },
  {
   "cell_type": "markdown",
   "metadata": {},
   "source": [
    "<a rel=\"license\" href=\"http://creativecommons.org/licenses/by-sa/4.0/\"><img alt=\"Licence Creative Commons\" style=\"border-width:0\" src=\"https://i.creativecommons.org/l/by-sa/4.0/88x31.png\" /></a><br />Ce document est mis à disposition selon les termes de la <a rel=\"license\" href=\"http://creativecommons.org/licenses/by-sa/4.0/\">Licence Creative Commons Attribution -  Partage dans les Mêmes Conditions 4.0 International</a>.\n",
    "\n",
    "Pour toute question, suggestion ou commentaire : <a href=\"mailto:eric.madec@ecmorlaix.fr\">eric.madec@ecmorlaix.fr</a>"
   ]
  }
 ],
 "metadata": {
  "kernelspec": {
   "display_name": "Python 3",
   "language": "python",
   "name": "python3"
  },
  "language_info": {
   "codemirror_mode": {
    "name": "ipython",
    "version": 3
   },
   "file_extension": ".py",
   "mimetype": "text/x-python",
   "name": "python",
   "nbconvert_exporter": "python",
   "pygments_lexer": "ipython3",
   "version": "3.10.1"
  },
  "toc": {
   "base_numbering": 1,
   "nav_menu": {},
   "number_sections": true,
   "sideBar": true,
   "skip_h1_title": false,
   "title_cell": "Table of Contents",
   "title_sidebar": "Contents",
   "toc_cell": false,
   "toc_position": {},
   "toc_section_display": true,
   "toc_window_display": false
  },
  "varInspector": {
   "cols": {
    "lenName": 16,
    "lenType": 16,
    "lenVar": 40
   },
   "kernels_config": {
    "python": {
     "delete_cmd_postfix": "",
     "delete_cmd_prefix": "del ",
     "library": "var_list.py",
     "varRefreshCmd": "print(var_dic_list())"
    },
    "r": {
     "delete_cmd_postfix": ") ",
     "delete_cmd_prefix": "rm(",
     "library": "var_list.r",
     "varRefreshCmd": "cat(var_dic_list()) "
    }
   },
   "types_to_exclude": [
    "module",
    "function",
    "builtin_function_or_method",
    "instance",
    "_Feature"
   ],
   "window_display": false
  }
 },
 "nbformat": 4,
 "nbformat_minor": 2
}
